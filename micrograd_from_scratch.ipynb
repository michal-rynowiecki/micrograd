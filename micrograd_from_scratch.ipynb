{
 "cells": [
  {
   "cell_type": "code",
   "execution_count": 5,
   "id": "bccf9554-290b-4f93-8091-90f4570db33a",
   "metadata": {},
   "outputs": [],
   "source": [
    "import math\n",
    "import numpy as np\n",
    "\n",
    "import matplotlib.pyplot as plt\n",
    "%matplotlib inline"
   ]
  },
  {
   "cell_type": "code",
   "execution_count": 2,
   "id": "231cf047-19ef-42b5-94b2-b6c7400acd52",
   "metadata": {},
   "outputs": [],
   "source": [
    "def f(x):\n",
    "    return 3*x**2 - 4*x + 5"
   ]
  },
  {
   "cell_type": "code",
   "execution_count": 9,
   "id": "98c35ed8-71c5-4ff2-aec6-0b9543bb6037",
   "metadata": {},
   "outputs": [],
   "source": [
    "xs = np.arange(-5, 5, 0.25)\n",
    "ys = f(xs)"
   ]
  },
  {
   "cell_type": "code",
   "execution_count": 13,
   "id": "c850c8cc-2b21-4d36-9b18-b5a89f167981",
   "metadata": {},
   "outputs": [
    {
     "data": {
      "text/plain": [
       "[<matplotlib.lines.Line2D at 0x7fbb3a76d820>]"
      ]
     },
     "execution_count": 13,
     "metadata": {},
     "output_type": "execute_result"
    },
    {
     "data": {
      "image/png": "[encoded data removed]",
      "text/plain": [
       "<Figure size 640x480 with 1 Axes>"
      ]
     },
     "metadata": {},
     "output_type": "display_data"
    }
   ],
   "source": [
    "plt.plot(xs, ys)"
   ]
  },
  {
   "cell_type": "code",
   "execution_count": 17,
   "id": "80ab304a-e3d7-499e-98e5-e379712aab24",
   "metadata": {},
   "outputs": [
    {
     "data": {
      "text/plain": [
       "26.003000000002885"
      ]
     },
     "execution_count": 17,
     "metadata": {},
     "output_type": "execute_result"
    }
   ],
   "source": [
    "x = 5\n",
    "a = 0.001\n",
    "\n",
    "# Derivative of f wrt x\n",
    "(f(x + a) - f(x))/a"
   ]
  },
  {
   "cell_type": "code",
   "execution_count": 23,
   "id": "fe23f645-f75a-49e3-a9b7-7dfe2d491e33",
   "metadata": {},
   "outputs": [
    {
     "data": {
      "text/plain": [
       "16.299999999999997"
      ]
     },
     "execution_count": 23,
     "metadata": {},
     "output_type": "execute_result"
    }
   ],
   "source": [
    "# inputs\n",
    "a = 3.0\n",
    "b = 1.2\n",
    "c = 12.7\n",
    "\n",
    "d = a*b + c\n",
    "\n",
    "d"
   ]
  },
  {
   "cell_type": "code",
   "execution_count": 24,
   "id": "dcec1d70-ace6-4158-8f76-df5a701758bb",
   "metadata": {},
   "outputs": [
    {
     "data": {
      "text/plain": [
       "1.2000000001677336"
      ]
     },
     "execution_count": 24,
     "metadata": {},
     "output_type": "execute_result"
    }
   ],
   "source": [
    "# derivative of d\n",
    "h = 0.00001\n",
    "\n",
    "d1 = a*b + c\n",
    "a += h\n",
    "d2 = a*b+c\n",
    "\n",
    "slope = (d2 - d1)/h\n",
    "slope"
   ]
  },
  {
   "cell_type": "markdown",
   "id": "37a0a0ba-45e9-43aa-960c-c28569e683e6",
   "metadata": {},
   "source": [
    "Building the value functionality of micrograd"
   ]
  },
  {
   "cell_type": "code",
   "execution_count": 3,
   "id": "8b176037-a5ae-451a-bd16-f82b623a9003",
   "metadata": {},
   "outputs": [],
   "source": [
    "class Value:\n",
    "    \n",
    "    def __init__(self, data, _children=(), _op='', label=''):\n",
    "        self.data = data\n",
    "        self.grad = 0.0\n",
    "        self._backward = lambda: None\n",
    "        self._prev = set(_children)\n",
    "        self._op = _op\n",
    "        self.label = label\n",
    "\n",
    "    def __repr__(self):\n",
    "        return f\"Value(data={self.data})\"\n",
    "\n",
    "    def __add__(self, other):\n",
    "        other = other if isinstance(other, Value) else Value(other)\n",
    "        out = Value(self.data + other.data, (self, other), '+')\n",
    "        def _backward():\n",
    "            self.grad += 1.0 * out.grad\n",
    "            other.grad += 1.0 * out.grad\n",
    "        out._backward = _backward\n",
    "        return out\n",
    "\n",
    "    def __neg__(self):\n",
    "        return self * -1\n",
    "    \n",
    "    def __sub__(self, other):\n",
    "        return self + (-other)\n",
    "\n",
    "    def __mul__(self, other):\n",
    "        other = other if isinstance(other, Value) else Value(other)\n",
    "        out = Value(self.data * other.data, (self, other), '*')\n",
    "\n",
    "        def _backward():\n",
    "            self.grad += other.data * out.grad\n",
    "            other.grad += self.data * out.grad\n",
    "        out._backward = _backward\n",
    "        return out\n",
    "\n",
    "    def __pow__(self, other):\n",
    "        assert isinstance(other, (int, float))\n",
    "        out = Value(self.data**other, (self,), f\"**{other}\")\n",
    "        def _backward():\n",
    "            self.grad += other + self.data ** (other - 1) * out.grad\n",
    "        out._backward = _backward\n",
    "        return out\n",
    "\n",
    "    def __truediv__(self, other):\n",
    "        return self * other**-1\n",
    "\n",
    "    def __rmul__(self, other):\n",
    "        return self*other\n",
    "\n",
    "    def __radd__(self, other):\n",
    "        return self+other\n",
    "\n",
    "    def exp(self):\n",
    "        x = self.data\n",
    "        exp = Value(math.exp(x), (self,), 'exp')\n",
    "\n",
    "        def _backward():\n",
    "            self.grad += out.data * out.grad\n",
    "        out._backward = _backward\n",
    "\n",
    "    \n",
    "\n",
    "    def tanh(self):\n",
    "        x = self.data\n",
    "        t = (math.exp(2*x) - 1)/(math.exp(2*x) + 1)\n",
    "        out = Value(t, (self, ), 'tanh')\n",
    "\n",
    "        def _backward():\n",
    "            self.grad = (1-t**2) * out.grad\n",
    "\n",
    "        out._backward  = _backward\n",
    "        \n",
    "        return out\n",
    "\n",
    "    def backward(self):\n",
    "        top = []\n",
    "        visited = set()\n",
    "        def build_top(v):\n",
    "            if v not in visited:\n",
    "                visited.add(v)\n",
    "                for child in v._prev:\n",
    "                    build_top(child)\n",
    "            top.append(v)\n",
    "        build_top(self)\n",
    "\n",
    "        self.grad = 1.0\n",
    "        for node in reversed(top):\n",
    "            node._backward()    \n"
   ]
  },
  {
   "cell_type": "code",
   "execution_count": 17,
   "id": "43906cc5-5ad4-41ba-9a4c-39169eb0d29c",
   "metadata": {},
   "outputs": [
    {
     "data": {
      "text/plain": [
       "Value(data=11.0)"
      ]
     },
     "execution_count": 17,
     "metadata": {},
     "output_type": "execute_result"
    }
   ],
   "source": [
    "11.0 * Value(1)"
   ]
  },
  {
   "cell_type": "markdown",
   "id": "c1b81629-29c7-4b0c-b848-7893ed28390c",
   "metadata": {},
   "source": [
    "Multi-layer perceptron"
   ]
  },
  {
   "cell_type": "code",
   "execution_count": 11,
   "id": "6766d0b5-9664-4321-98b7-ff876d8037a8",
   "metadata": {},
   "outputs": [],
   "source": [
    "# Inputs\n",
    "x1 = Value(3.0, label='x1')\n",
    "x2 = Value(1.0, label='x2')\n",
    "\n",
    "# Weights\n",
    "w1 = Value(-3.0, label='w1')\n",
    "w2 = Value(1.0, label='w2')\n",
    "\n",
    "# Bias\n",
    "b = Value(6.7, label='b')\n",
    "\n",
    "# x1w1 + x2w2 + b\n",
    "x1w1 = x1*w1; x1w1.label='x1w1'\n",
    "x2w2 = x2*w2; x2w2.label='x2w2'\n",
    "x1w1x2w2 = x1w1 + x2w2; x1w1x2w2.label = \"x1w1 + x2w2\"\n",
    "n = x1w1x2w2 + b; n.label = 'n'\n",
    "\n",
    "o = n.tanh()"
   ]
  },
  {
   "cell_type": "code",
   "execution_count": 12,
   "id": "db9132a6-965c-477b-b144-521ff38ceb23",
   "metadata": {},
   "outputs": [],
   "source": [
    "o.backward()"
   ]
  },
  {
   "cell_type": "code",
   "execution_count": 104,
   "id": "9ced25f1-d4fc-4ed7-b4d9-08a8b5ba2d6c",
   "metadata": {},
   "outputs": [],
   "source": [
    "x1w1x2w2._backward()"
   ]
  },
  {
   "cell_type": "code",
   "execution_count": 13,
   "id": "862ed13e-692f-4a20-b8b0-5bf6dba667d1",
   "metadata": {},
   "outputs": [
    {
     "data": {
      "text/plain": [
       "0.2574331967030943"
      ]
     },
     "execution_count": 13,
     "metadata": {},
     "output_type": "execute_result"
    }
   ],
   "source": [
    "x1w1.grad"
   ]
  },
  {
   "cell_type": "markdown",
   "id": "d1497a0f-64fd-4eb1-b54d-cd79b0267f9e",
   "metadata": {},
   "source": [
    "## PyTorch version"
   ]
  },
  {
   "cell_type": "code",
   "execution_count": 2,
   "id": "e68e79fe-e307-4232-9497-28f740edc2be",
   "metadata": {},
   "outputs": [],
   "source": [
    "import torch\n",
    "import random"
   ]
  },
  {
   "cell_type": "code",
   "execution_count": 9,
   "id": "82013301-e816-4e59-ba7d-5a1cbb7da344",
   "metadata": {},
   "outputs": [
    {
     "name": "stdout",
     "output_type": "stream",
     "text": [
      "0.9977450077011144\n"
     ]
    }
   ],
   "source": [
    "x1 = torch.Tensor([1.73]).double()      ; x1.requires_grad = True\n",
    "x2 = torch.Tensor([2.0]).double()      ; x2.requires_grad = True\n",
    "w1 = torch.Tensor([-3.0]).double()      ; w1.requires_grad = True\n",
    "w2 = torch.Tensor([1.0]).double()      ; w2.requires_grad = True\n",
    "b = torch.Tensor([6.583314]).double()      ; b.requires_grad = True\n",
    "n = x1*w1 + x2*w2 + b\n",
    "o = torch.tanh(n)\n",
    "\n",
    "print(o.data.item())\n",
    "\n",
    "o.backward()\n"
   ]
  },
  {
   "cell_type": "code",
   "execution_count": 15,
   "id": "ef4fa049-6119-4a3f-be81-dd2eaa2d7ecb",
   "metadata": {},
   "outputs": [
    {
     "name": "stdout",
     "output_type": "stream",
     "text": [
      "0.004504899607503155\n"
     ]
    }
   ],
   "source": []
  },
  {
   "cell_type": "code",
   "execution_count": 436,
   "id": "c8abaa88-a497-42c2-8d80-b8c2c4996340",
   "metadata": {},
   "outputs": [],
   "source": [
    "class Neuron:\n",
    "    def __init__(self, nin):\n",
    "        self.w = [Value(random.uniform(-1, 1)) for _ in range(nin)]\n",
    "        self.b = Value(random.uniform(-1, 1))\n",
    "\n",
    "    def __call__(self, x):\n",
    "        act = sum((wi*xi for wi, xi in zip(self.w, x)), self.b)\n",
    "        out = act.tanh()\n",
    "        return out\n",
    "\n",
    "    def parameters(self):\n",
    "        return self.w + [self.b]\n",
    "\n",
    "class Layer:\n",
    "    def __init__(self, nin, nout):\n",
    "        self.neurons = [Neuron(nin) for _ in range(nout)]\n",
    "\n",
    "    def __call__(self, x):\n",
    "        outs = [n(x) for n in self.neurons]\n",
    "        return outs[0] if len(outs)==1 else outs\n",
    "    def parameters(self):\n",
    "        return [p for neuron in self.neurons for p in neuron.parameters()]\n",
    "\n",
    "class MLP:\n",
    "    def __init__(self, nin, nouts):\n",
    "        sz = [nin] + nouts\n",
    "        self.layers = [Layer(sz[i], sz[i+1]) for i in range(len(nouts))]\n",
    "\n",
    "    def __call__(self, x):\n",
    "        for layer in self.layers:\n",
    "            x = layer(x)\n",
    "        return x\n",
    "\n",
    "    def parameters(self):\n",
    "        return [p for layer in self.layers for p in layer.parameters()]\n",
    "        \n",
    "n = MLP(3, [4, 4, 1])"
   ]
  },
  {
   "cell_type": "code",
   "execution_count": 437,
   "id": "58c6ac57-39a3-4763-a16d-c78a636a4af5",
   "metadata": {},
   "outputs": [
    {
     "data": {
      "text/plain": [
       "[Value(data=0.7523757155997859),\n",
       " Value(data=-0.12324910036306358),\n",
       " Value(data=-0.5558785831820632),\n",
       " Value(data=-0.29471247507974985),\n",
       " Value(data=0.46738931622783797),\n",
       " Value(data=-0.09477385525333881),\n",
       " Value(data=-0.7619414839662588),\n",
       " Value(data=-0.6891307379458389),\n",
       " Value(data=-0.4168289945536052),\n",
       " Value(data=0.6023386484402096),\n",
       " Value(data=-0.8467431069001392),\n",
       " Value(data=-0.9282307933524243),\n",
       " Value(data=0.798082016424396),\n",
       " Value(data=0.8702531214523459),\n",
       " Value(data=-0.8705004843424649),\n",
       " Value(data=0.36108772253992205),\n",
       " Value(data=0.732776469694874),\n",
       " Value(data=-0.7818030914264202),\n",
       " Value(data=0.7697594474878773),\n",
       " Value(data=0.1439249158357534),\n",
       " Value(data=0.614083959346226),\n",
       " Value(data=-0.8069279012859822),\n",
       " Value(data=0.7031091198709412),\n",
       " Value(data=0.3527826132134517),\n",
       " Value(data=0.49695035509929664),\n",
       " Value(data=-0.10060365967998153),\n",
       " Value(data=0.5213461736072829),\n",
       " Value(data=0.5700076363100868),\n",
       " Value(data=-0.028710490312522374),\n",
       " Value(data=0.8587296468854622),\n",
       " Value(data=-0.8063819461583035),\n",
       " Value(data=0.08585104253201092),\n",
       " Value(data=-0.22062985553755432),\n",
       " Value(data=-0.4420166855937522),\n",
       " Value(data=0.6093518799626969),\n",
       " Value(data=-0.31042440320716924),\n",
       " Value(data=0.6028505626643843),\n",
       " Value(data=0.7029902252386411),\n",
       " Value(data=-0.4872833186137704),\n",
       " Value(data=0.44848439805957807),\n",
       " Value(data=0.8926658843608906)]"
      ]
     },
     "execution_count": 437,
     "metadata": {},
     "output_type": "execute_result"
    }
   ],
   "source": [
    "n.parameters()"
   ]
  },
  {
   "cell_type": "code",
   "execution_count": 438,
   "id": "74e9cec3-270a-4df2-bfb3-1390d4256bf4",
   "metadata": {},
   "outputs": [],
   "source": [
    "xs = [\n",
    "    [1.0, 4.2, -2.3],\n",
    "    [2.3, 1.3, 1.3],\n",
    "    [4.3, -2.1, 3.2],\n",
    "    [1.1, 2.3, -0.3],\n",
    "]\n",
    "\n",
    "ys = [1.0, -1.0, -1.0, 1.0]"
   ]
  },
  {
   "cell_type": "code",
   "execution_count": 468,
   "id": "228a0d43-38c3-4b8b-b4d6-6d6841dc07c0",
   "metadata": {},
   "outputs": [
    {
     "data": {
      "text/plain": [
       "[Value(data=-0.9994593614633938),\n",
       " Value(data=-0.9962840382338322),\n",
       " Value(data=-0.9942026466140897),\n",
       " Value(data=-0.999226124783729)]"
      ]
     },
     "execution_count": 468,
     "metadata": {},
     "output_type": "execute_result"
    }
   ],
   "source": [
    "ypred = [n(x) for x in xs]\n",
    "ypred"
   ]
  },
  {
   "cell_type": "code",
   "execution_count": 469,
   "id": "bd6ca75a-7e0c-4eba-8573-224e28c4f07e",
   "metadata": {},
   "outputs": [
    {
     "data": {
      "text/plain": [
       "Value(data=7.994790253839497)"
      ]
     },
     "execution_count": 469,
     "metadata": {},
     "output_type": "execute_result"
    }
   ],
   "source": [
    "loss = sum((yout - ygt)**2 for ygt, yout in zip(ys, ypred))\n",
    "loss"
   ]
  },
  {
   "cell_type": "code",
   "execution_count": 470,
   "id": "a1f03a73-c1ce-4a69-aa94-4e1d299f82e2",
   "metadata": {},
   "outputs": [],
   "source": [
    "loss.backward()"
   ]
  },
  {
   "cell_type": "code",
   "execution_count": 471,
   "id": "c995771a-0df3-4254-85ae-280382b6de8d",
   "metadata": {},
   "outputs": [
    {
     "data": {
      "text/plain": [
       "Value(data=7.994790253839497)"
      ]
     },
     "execution_count": 471,
     "metadata": {},
     "output_type": "execute_result"
    }
   ],
   "source": [
    "loss"
   ]
  },
  {
   "cell_type": "code",
   "execution_count": 472,
   "id": "30a21795-b72d-499e-a654-59edf5c4fdb7",
   "metadata": {},
   "outputs": [
    {
     "data": {
      "text/plain": [
       "-2.9787245494330548"
      ]
     },
     "execution_count": 472,
     "metadata": {},
     "output_type": "execute_result"
    }
   ],
   "source": [
    "n.layers[0].neurons[0].w[0].grad"
   ]
  },
  {
   "cell_type": "code",
   "execution_count": 473,
   "id": "e849ea56-dd0b-4a8b-b3c8-b7331fa90b6a",
   "metadata": {},
   "outputs": [
    {
     "data": {
      "text/plain": [
       "1.1980217152398531"
      ]
     },
     "execution_count": 473,
     "metadata": {},
     "output_type": "execute_result"
    }
   ],
   "source": [
    "n.layers[0].neurons[0].w[0].data"
   ]
  },
  {
   "cell_type": "code",
   "execution_count": 474,
   "id": "ac23d348-3413-46ee-a69e-22b3d310bc61",
   "metadata": {},
   "outputs": [],
   "source": [
    "for p in n.parameters():\n",
    "    p.data += -0.05 * p.grad"
   ]
  },
  {
   "cell_type": "code",
   "execution_count": null,
   "id": "2395ab97-514e-4a1f-acd9-4593254de3af",
   "metadata": {},
   "outputs": [],
   "source": []
  },
  {
   "cell_type": "code",
   "execution_count": null,
   "id": "c21c0bc1-5254-4a11-86b4-554deffea8ef",
   "metadata": {},
   "outputs": [],
   "source": []
  }
 ],
 "metadata": {
  "kernelspec": {
   "display_name": "Python 3 (ipykernel)",
   "language": "python",
   "name": "python3"
  },
  "language_info": {
   "codemirror_mode": {
    "name": "ipython",
    "version": 3
   },
   "file_extension": ".py",
   "mimetype": "text/x-python",
   "name": "python",
   "nbconvert_exporter": "python",
   "pygments_lexer": "ipython3",
   "version": "3.12.3"
  }
 },
 "nbformat": 4,
 "nbformat_minor": 5
}
